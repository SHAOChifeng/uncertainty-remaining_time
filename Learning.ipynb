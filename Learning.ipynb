{
 "cells": [
  {
   "cell_type": "code",
   "execution_count": null,
   "id": "about-advocacy",
   "metadata": {},
   "outputs": [],
   "source": [
    "'''\n",
    "schematic overview of training\n",
    "'''\n",
    "\n",
    "params = # define model arguments\n",
    "model = StochasticCNN(params) # or model = StochasticLSTM(params) \n",
    "self.model = self.model.cuda()\n",
    "optimizer = optim.Adam(self.model.parameters())\n",
    "\n",
    "for epoch in nr_epochs:\n",
    "    for batch in nr_batches:\n",
    "\n",
    "        mean, log_var, regularization = model(x_cat, x_range)  \n",
    "\n",
    "        if self.heteroscedastic:\n",
    "            loss = regression_heteroscedastic_loss(y, mean, log_var, self.metric) + regularization\n",
    "        else:\n",
    "            loss = regression_homoscedastic_loss(y, mean, self.metric) + regularization\n",
    "\n",
    "        optimizer.zero_grad()\n",
    "        loss.backward()\n",
    "        nn.utils.clip_grad_value_(self.model.parameters(), clip_value=1.0)\n",
    "        optimizer.step()\n",
    "    shuffle # shuffle dataset"
   ]
  }
 ],
 "metadata": {
  "kernelspec": {
   "display_name": "Python 3",
   "language": "python",
   "name": "python3"
  },
  "language_info": {
   "codemirror_mode": {
    "name": "ipython",
    "version": 3
   },
   "file_extension": ".py",
   "mimetype": "text/x-python",
   "name": "python",
   "nbconvert_exporter": "python",
   "pygments_lexer": "ipython3",
   "version": "3.7.6"
  }
 },
 "nbformat": 4,
 "nbformat_minor": 5
}
