{
 "cells": [
  {
   "cell_type": "code",
   "execution_count": 1,
   "id": "compact-jones",
   "metadata": {},
   "outputs": [],
   "source": [
    "import torch\n",
    "\n",
    "def regression_heteroscedastic_loss(true, mean, log_var, metric): \n",
    "    '''\n",
    "    ARGUMENTS:\n",
    "    true: true values. Tensor (batch_size x number of outputs)\n",
    "    mean: predictions. Tensor (batch_size x number of outputs)\n",
    "    log_var: Logaritms of uncertainty estimates. Tensor (batch_size x number of outputs)\n",
    "    metric: \"mae\" or \"rmse\"\n",
    "\n",
    "    OUTPUTS:\n",
    "    loss. Tensor (0)\n",
    "    '''\n",
    "    precision = torch.exp(-log_var)\n",
    "    if metric == \"mae\":\n",
    "        return torch.mean(torch.sum((2 * precision) ** .5 * torch.abs(true - mean) + log_var / 2, 1), 0)\n",
    "    elif metric == \"rmse\" or not metric:   #default is rmse\n",
    "        return torch.mean(torch.sum(precision * (true - mean) ** 2 + log_var, 1), 0)\n",
    "    else:\n",
    "        print(\"Metric has to be 'rmse' or 'mae'\")\n",
    "\n",
    "def regression_homoscedastic_loss(true, mean, metric):\n",
    "    '''\n",
    "    ARGUMENTS:\n",
    "    true: true values. Tensor (batch_size x number of outputs)\n",
    "    mean: predictions. Tensor (batch_size x number of outputs)\n",
    "    metric: \"mae\" or \"rmse\"\n",
    "\n",
    "    OUTPUTS:\n",
    "    loss. Tensor (0)\n",
    "    '''\n",
    "    \n",
    "    if metric == \"mae\":\n",
    "        return torch.mean(torch.sum(torch.abs(true - mean), 1), 0)\n",
    "    elif metric == \"rmse\" or not metric:   #default is rmse\n",
    "        return torch.mean(torch.sum((true - mean) ** 2, 1), 0)\n",
    "    else:\n",
    "        print(\"Metric has to be 'rmse' or 'mae'\")"
   ]
  },
  {
   "cell_type": "code",
   "execution_count": null,
   "id": "broad-bronze",
   "metadata": {},
   "outputs": [],
   "source": []
  }
 ],
 "metadata": {
  "kernelspec": {
   "display_name": "Python 3",
   "language": "python",
   "name": "python3"
  },
  "language_info": {
   "codemirror_mode": {
    "name": "ipython",
    "version": 3
   },
   "file_extension": ".py",
   "mimetype": "text/x-python",
   "name": "python",
   "nbconvert_exporter": "python",
   "pygments_lexer": "ipython3",
   "version": "3.7.6"
  }
 },
 "nbformat": 4,
 "nbformat_minor": 5
}
